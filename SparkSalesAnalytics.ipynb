{
 "cells": [
  {
   "cell_type": "markdown",
   "id": "f9fcb520-6d9f-41e4-8989-c81028f87818",
   "metadata": {},
   "source": [
    "# SparkSalesAnalytics"
   ]
  },
  {
   "cell_type": "markdown",
   "id": "b1e9c4c4-cf51-4142-b3c3-664da5c878c5",
   "metadata": {},
   "source": [
    "## Challenge 1 - Adjusting Schema for CSV Data"
   ]
  },
  {
   "cell_type": "markdown",
   "id": "34db4c62-9cfb-42fe-b2e9-83e5a4d1ad0f",
   "metadata": {},
   "source": [
    "### Importing Lib"
   ]
  },
  {
   "cell_type": "code",
   "execution_count": 70,
   "id": "5c862cb9-1eb2-4d88-9cdb-438f7c33a037",
   "metadata": {
    "tags": []
   },
   "outputs": [],
   "source": [
    "from pyspark.sql import SparkSession\n",
    "from pyspark.sql.types import StructType, StructField, StringType, IntegerType"
   ]
  },
  {
   "cell_type": "code",
   "execution_count": 71,
   "id": "05978989-ee5e-4cfa-8680-1c8d46c33d64",
   "metadata": {
    "tags": []
   },
   "outputs": [],
   "source": [
    "from pyspark.sql.functions import col, expr"
   ]
  },
  {
   "cell_type": "markdown",
   "id": "7ead6fb3-81d7-4aa3-9b22-ddcb7c602cc2",
   "metadata": {},
   "source": [
    "### Create Spark Session"
   ]
  },
  {
   "cell_type": "code",
   "execution_count": 72,
   "id": "5c0a4603-4728-416b-80e3-11094261fac7",
   "metadata": {
    "tags": []
   },
   "outputs": [],
   "source": [
    "##spark.stop()"
   ]
  },
  {
   "cell_type": "code",
   "execution_count": 73,
   "id": "528628f0-c249-4946-81d1-2e53e1529290",
   "metadata": {
    "tags": []
   },
   "outputs": [],
   "source": [
    "spark = (SparkSession.builder.appName(\"PySparkChallenge\").getOrCreate())"
   ]
  },
  {
   "cell_type": "markdown",
   "id": "87d444d5-1d8a-4d63-bc54-a77fe74bdf0e",
   "metadata": {},
   "source": [
    "### Create raw Schema"
   ]
  },
  {
   "cell_type": "markdown",
   "id": "c137521a-2853-49c5-afc4-de19ba3763f3",
   "metadata": {},
   "source": [
    "define all as String because it is raw data, before cleaning should be defined as string, inorder to avoid error, and after cleaning the data we will set the schema into appropriate way."
   ]
  },
  {
   "cell_type": "code",
   "execution_count": 74,
   "id": "8874a634-4e10-4012-ba98-bf8580190ca3",
   "metadata": {
    "tags": []
   },
   "outputs": [],
   "source": [
    "raw_schema = StructType([\n",
    "    StructField(\"orderID\",StringType(), True),\n",
    "    StructField(\"product\",StringType(), True),\n",
    "    StructField(\"quantityOrdered\",StringType(), True),\n",
    "    StructField(\"priceEach\",StringType(), True),\n",
    "    StructField(\"orderDate\",StringType(), True),\n",
    "    StructField(\"purchaseAddress\",StringType(), True)\n",
    "])"
   ]
  },
  {
   "cell_type": "markdown",
   "id": "987db64e-167b-45fa-9eef-ef91d74f9c4f",
   "metadata": {},
   "source": [
    "### Read whole File in Folder"
   ]
  },
  {
   "cell_type": "code",
   "execution_count": 75,
   "id": "63bb8d5c-ec42-4743-842a-f3a45306ed23",
   "metadata": {
    "tags": []
   },
   "outputs": [],
   "source": [
    "folder_path = './testdata/salesdata'"
   ]
  },
  {
   "cell_type": "code",
   "execution_count": 76,
   "id": "535bf935-2757-493c-904c-24ac824763fc",
   "metadata": {
    "tags": []
   },
   "outputs": [],
   "source": [
    "df = spark.read.csv(folder_path, header=True, schema=raw_schema)"
   ]
  },
  {
   "cell_type": "code",
   "execution_count": 77,
   "id": "9baddf80-bd34-4d66-a8fe-3377cc793ffd",
   "metadata": {},
   "outputs": [
    {
     "name": "stdout",
     "output_type": "stream",
     "text": [
      "root\n",
      " |-- orderID: string (nullable = true)\n",
      " |-- product: string (nullable = true)\n",
      " |-- quantityOrdered: string (nullable = true)\n",
      " |-- priceEach: string (nullable = true)\n",
      " |-- orderDate: string (nullable = true)\n",
      " |-- purchaseAddress: string (nullable = true)\n",
      "\n"
     ]
    }
   ],
   "source": [
    "df.printSchema()"
   ]
  },
  {
   "cell_type": "code",
   "execution_count": 78,
   "id": "28fa8a01-5fa3-4790-9fe0-69399c982db6",
   "metadata": {
    "tags": []
   },
   "outputs": [
    {
     "name": "stdout",
     "output_type": "stream",
     "text": [
      "+-------+--------------------+---------------+---------+--------------+--------------------+\n",
      "|orderID|             product|quantityOrdered|priceEach|     orderDate|     purchaseAddress|\n",
      "+-------+--------------------+---------------+---------+--------------+--------------------+\n",
      "| 295665|  Macbook Pro Laptop|              1|     1700|12/30/19 00:01|136 Church St, Ne...|\n",
      "| 295666|  LG Washing Machine|              1|    600.0|12/29/19 07:03|562 2nd St, New Y...|\n",
      "| 295667|USB-C Charging Cable|              1|    11.95|12/12/19 18:21|277 Main St, New ...|\n",
      "| 295668|    27in FHD Monitor|              1|   149.99|12/22/19 15:13|410 6th St, San F...|\n",
      "| 295669|USB-C Charging Cable|              1|    11.95|12/18/19 12:38|43 Hill St, Atlan...|\n",
      "| 295670|AA Batteries (4-p...|              1|     3.84|12/31/19 22:58|200 Jefferson St,...|\n",
      "| 295671|USB-C Charging Cable|              1|    11.95|12/16/19 15:10|928 12th St, Port...|\n",
      "| 295672|USB-C Charging Cable|              2|    11.95|12/13/19 09:29|813 Hickory St, D...|\n",
      "| 295673|Bose SoundSport H...|              1|    99.99|12/15/19 23:26|718 Wilson St, Da...|\n",
      "| 295674|AAA Batteries (4-...|              4|     2.99|12/28/19 11:51|77 7th St, Dallas...|\n",
      "+-------+--------------------+---------------+---------+--------------+--------------------+\n",
      "only showing top 10 rows\n",
      "\n"
     ]
    }
   ],
   "source": [
    "df.show(10)"
   ]
  },
  {
   "cell_type": "markdown",
   "id": "888453e1-21ae-4f97-9664-2d9351608764",
   "metadata": {},
   "source": [
    "## Challenge 2 - Data Cleaning ,Standaring, and Outputing"
   ]
  },
  {
   "cell_type": "code",
   "execution_count": 79,
   "id": "4ebcd1b7-02d2-4744-90b9-b56e5a9fe956",
   "metadata": {
    "tags": []
   },
   "outputs": [],
   "source": [
    "df2 = df.filter(col(\"orderID\").isNull() == False)"
   ]
  },
  {
   "cell_type": "code",
   "execution_count": 80,
   "id": "ef41bd4f-e66b-4bd0-979a-3b118a904f22",
   "metadata": {
    "tags": []
   },
   "outputs": [
    {
     "name": "stdout",
     "output_type": "stream",
     "text": [
      "+-------+--------------------+---------------+---------+--------------+--------------------+\n",
      "|orderID|             product|quantityOrdered|priceEach|     orderDate|     purchaseAddress|\n",
      "+-------+--------------------+---------------+---------+--------------+--------------------+\n",
      "| 295665|  Macbook Pro Laptop|              1|     1700|12/30/19 00:01|136 Church St, Ne...|\n",
      "| 295666|  LG Washing Machine|              1|    600.0|12/29/19 07:03|562 2nd St, New Y...|\n",
      "| 295667|USB-C Charging Cable|              1|    11.95|12/12/19 18:21|277 Main St, New ...|\n",
      "| 295668|    27in FHD Monitor|              1|   149.99|12/22/19 15:13|410 6th St, San F...|\n",
      "| 295669|USB-C Charging Cable|              1|    11.95|12/18/19 12:38|43 Hill St, Atlan...|\n",
      "| 295670|AA Batteries (4-p...|              1|     3.84|12/31/19 22:58|200 Jefferson St,...|\n",
      "| 295671|USB-C Charging Cable|              1|    11.95|12/16/19 15:10|928 12th St, Port...|\n",
      "| 295672|USB-C Charging Cable|              2|    11.95|12/13/19 09:29|813 Hickory St, D...|\n",
      "| 295673|Bose SoundSport H...|              1|    99.99|12/15/19 23:26|718 Wilson St, Da...|\n",
      "| 295674|AAA Batteries (4-...|              4|     2.99|12/28/19 11:51|77 7th St, Dallas...|\n",
      "| 295675|USB-C Charging Cable|              2|    11.95|12/13/19 13:52|594 1st St, San F...|\n",
      "| 295676|     ThinkPad Laptop|              1|   999.99|12/28/19 17:19|410 Lincoln St, L...|\n",
      "| 295677|AA Batteries (4-p...|              2|     3.84|12/20/19 19:19|866 Pine St, Bost...|\n",
      "| 295678|AAA Batteries (4-...|              2|     2.99|12/06/19 09:38|187 Lincoln St, D...|\n",
      "| 295679|USB-C Charging Cable|              1|    11.95|12/25/19 09:39|902 2nd St, Dalla...|\n",
      "| 295680|Lightning Chargin...|              1|    14.95|12/01/19 14:30|338 Main St, Aust...|\n",
      "| 295681|        Google Phone|              1|      600|12/25/19 12:37|79 Elm St, Boston...|\n",
      "| 295681|USB-C Charging Cable|              1|    11.95|12/25/19 12:37|79 Elm St, Boston...|\n",
      "| 295681|Bose SoundSport H...|              1|    99.99|12/25/19 12:37|79 Elm St, Boston...|\n",
      "| 295681|    Wired Headphones|              1|    11.99|12/25/19 12:37|79 Elm St, Boston...|\n",
      "+-------+--------------------+---------------+---------+--------------+--------------------+\n",
      "only showing top 20 rows\n",
      "\n"
     ]
    }
   ],
   "source": [
    "df2.show()"
   ]
  },
  {
   "cell_type": "code",
   "execution_count": 81,
   "id": "44ffad75-16ad-43aa-b3bf-18365b658b3f",
   "metadata": {
    "tags": []
   },
   "outputs": [
    {
     "name": "stdout",
     "output_type": "stream",
     "text": [
      "+--------+-------+----------------+----------+----------+----------------+\n",
      "| orderID|product| quantityOrdered| priceEach| orderDate| purchaseAddress|\n",
      "+--------+-------+----------------+----------+----------+----------------+\n",
      "|Order ID|Product|Quantity Ordered|Price Each|Order Date|Purchase Address|\n",
      "|Order ID|Product|Quantity Ordered|Price Each|Order Date|Purchase Address|\n",
      "|Order ID|Product|Quantity Ordered|Price Each|Order Date|Purchase Address|\n",
      "|Order ID|Product|Quantity Ordered|Price Each|Order Date|Purchase Address|\n",
      "|Order ID|Product|Quantity Ordered|Price Each|Order Date|Purchase Address|\n",
      "|Order ID|Product|Quantity Ordered|Price Each|Order Date|Purchase Address|\n",
      "|Order ID|Product|Quantity Ordered|Price Each|Order Date|Purchase Address|\n",
      "|Order ID|Product|Quantity Ordered|Price Each|Order Date|Purchase Address|\n",
      "|Order ID|Product|Quantity Ordered|Price Each|Order Date|Purchase Address|\n",
      "|Order ID|Product|Quantity Ordered|Price Each|Order Date|Purchase Address|\n",
      "|Order ID|Product|Quantity Ordered|Price Each|Order Date|Purchase Address|\n",
      "|Order ID|Product|Quantity Ordered|Price Each|Order Date|Purchase Address|\n",
      "|Order ID|Product|Quantity Ordered|Price Each|Order Date|Purchase Address|\n",
      "|Order ID|Product|Quantity Ordered|Price Each|Order Date|Purchase Address|\n",
      "|Order ID|Product|Quantity Ordered|Price Each|Order Date|Purchase Address|\n",
      "|Order ID|Product|Quantity Ordered|Price Each|Order Date|Purchase Address|\n",
      "|Order ID|Product|Quantity Ordered|Price Each|Order Date|Purchase Address|\n",
      "|Order ID|Product|Quantity Ordered|Price Each|Order Date|Purchase Address|\n",
      "|Order ID|Product|Quantity Ordered|Price Each|Order Date|Purchase Address|\n",
      "|Order ID|Product|Quantity Ordered|Price Each|Order Date|Purchase Address|\n",
      "+--------+-------+----------------+----------+----------+----------------+\n",
      "only showing top 20 rows\n",
      "\n"
     ]
    }
   ],
   "source": [
    "df2.filter(col(\"orderID\") == \"Order ID\").show()"
   ]
  },
  {
   "cell_type": "markdown",
   "id": "7bcc53c5-d6ee-463a-8e68-d480ccb2510c",
   "metadata": {},
   "source": [
    "If you take a closer look at the above data, the Order ID content is actually equivalent to the Column Name.\n",
    "\n",
    "This is also true for the rest of the columns and you are required to remove these records from the sales dataframe."
   ]
  },
  {
   "cell_type": "code",
   "execution_count": 82,
   "id": "0ef72e10-b94d-476a-9eab-9bbe2cfe998f",
   "metadata": {
    "tags": []
   },
   "outputs": [],
   "source": [
    "filtered_df = df2.filter(col(\"orderID\") != \"Order ID\")"
   ]
  },
  {
   "cell_type": "code",
   "execution_count": 83,
   "id": "7cb0a874-9e7e-473e-94a1-f07548b24506",
   "metadata": {
    "tags": []
   },
   "outputs": [
    {
     "name": "stdout",
     "output_type": "stream",
     "text": [
      "+-------+--------------------+---------------+---------+--------------+--------------------+\n",
      "|orderID|             product|quantityOrdered|priceEach|     orderDate|     purchaseAddress|\n",
      "+-------+--------------------+---------------+---------+--------------+--------------------+\n",
      "| 295665|  Macbook Pro Laptop|              1|     1700|12/30/19 00:01|136 Church St, Ne...|\n",
      "| 295666|  LG Washing Machine|              1|    600.0|12/29/19 07:03|562 2nd St, New Y...|\n",
      "| 295667|USB-C Charging Cable|              1|    11.95|12/12/19 18:21|277 Main St, New ...|\n",
      "| 295668|    27in FHD Monitor|              1|   149.99|12/22/19 15:13|410 6th St, San F...|\n",
      "| 295669|USB-C Charging Cable|              1|    11.95|12/18/19 12:38|43 Hill St, Atlan...|\n",
      "| 295670|AA Batteries (4-p...|              1|     3.84|12/31/19 22:58|200 Jefferson St,...|\n",
      "| 295671|USB-C Charging Cable|              1|    11.95|12/16/19 15:10|928 12th St, Port...|\n",
      "| 295672|USB-C Charging Cable|              2|    11.95|12/13/19 09:29|813 Hickory St, D...|\n",
      "| 295673|Bose SoundSport H...|              1|    99.99|12/15/19 23:26|718 Wilson St, Da...|\n",
      "| 295674|AAA Batteries (4-...|              4|     2.99|12/28/19 11:51|77 7th St, Dallas...|\n",
      "| 295675|USB-C Charging Cable|              2|    11.95|12/13/19 13:52|594 1st St, San F...|\n",
      "| 295676|     ThinkPad Laptop|              1|   999.99|12/28/19 17:19|410 Lincoln St, L...|\n",
      "| 295677|AA Batteries (4-p...|              2|     3.84|12/20/19 19:19|866 Pine St, Bost...|\n",
      "| 295678|AAA Batteries (4-...|              2|     2.99|12/06/19 09:38|187 Lincoln St, D...|\n",
      "| 295679|USB-C Charging Cable|              1|    11.95|12/25/19 09:39|902 2nd St, Dalla...|\n",
      "| 295680|Lightning Chargin...|              1|    14.95|12/01/19 14:30|338 Main St, Aust...|\n",
      "| 295681|        Google Phone|              1|      600|12/25/19 12:37|79 Elm St, Boston...|\n",
      "| 295681|USB-C Charging Cable|              1|    11.95|12/25/19 12:37|79 Elm St, Boston...|\n",
      "| 295681|Bose SoundSport H...|              1|    99.99|12/25/19 12:37|79 Elm St, Boston...|\n",
      "| 295681|    Wired Headphones|              1|    11.99|12/25/19 12:37|79 Elm St, Boston...|\n",
      "+-------+--------------------+---------------+---------+--------------+--------------------+\n",
      "only showing top 20 rows\n",
      "\n"
     ]
    }
   ],
   "source": [
    "filtered_df.show()"
   ]
  },
  {
   "cell_type": "markdown",
   "id": "bcbcb1ab-4d80-4027-97a3-d9bb015b2c1c",
   "metadata": {},
   "source": [
    "### Extract City into New Column."
   ]
  },
  {
   "cell_type": "code",
   "execution_count": 84,
   "id": "159224d7-e24f-4195-9f93-2dd17ec0bfb6",
   "metadata": {
    "tags": []
   },
   "outputs": [],
   "source": [
    "from pyspark.sql.functions import split"
   ]
  },
  {
   "cell_type": "code",
   "execution_count": 85,
   "id": "f7c42d70-78ea-4eb9-a21a-13067ff69f35",
   "metadata": {
    "tags": []
   },
   "outputs": [],
   "source": [
    "extract_df = filtered_df.select(col(\"orderID\"), col(\"product\"), col(\"quantityOrdered\"), col(\"priceEach\"), col(\"orderDate\"), col(\"purchaseAddress\"))"
   ]
  },
  {
   "cell_type": "code",
   "execution_count": 86,
   "id": "e2867357-a594-493a-9ead-468e4bdfc080",
   "metadata": {
    "tags": []
   },
   "outputs": [],
   "source": [
    "extract_df_2 = extract_df.withColumn(\"State\", split(split(\"purchaseAddress\", \",\")[2], \" \")[1])\n",
    "extract_df_3 = extract_df_2.withColumn(\"City\", split(\"purchaseAddress\", \",\")[1])"
   ]
  },
  {
   "cell_type": "code",
   "execution_count": 87,
   "id": "6ea9fc88-d443-487f-b3d2-5eb0e09a6281",
   "metadata": {
    "tags": []
   },
   "outputs": [
    {
     "name": "stdout",
     "output_type": "stream",
     "text": [
      "+-------+--------------------+---------------+---------+--------------+--------------------+-----+--------------+\n",
      "|orderID|             product|quantityOrdered|priceEach|     orderDate|     purchaseAddress|State|          City|\n",
      "+-------+--------------------+---------------+---------+--------------+--------------------+-----+--------------+\n",
      "| 295665|  Macbook Pro Laptop|              1|     1700|12/30/19 00:01|136 Church St, Ne...|   NY| New York City|\n",
      "| 295666|  LG Washing Machine|              1|    600.0|12/29/19 07:03|562 2nd St, New Y...|   NY| New York City|\n",
      "| 295667|USB-C Charging Cable|              1|    11.95|12/12/19 18:21|277 Main St, New ...|   NY| New York City|\n",
      "| 295668|    27in FHD Monitor|              1|   149.99|12/22/19 15:13|410 6th St, San F...|   CA| San Francisco|\n",
      "| 295669|USB-C Charging Cable|              1|    11.95|12/18/19 12:38|43 Hill St, Atlan...|   GA|       Atlanta|\n",
      "| 295670|AA Batteries (4-p...|              1|     3.84|12/31/19 22:58|200 Jefferson St,...|   NY| New York City|\n",
      "| 295671|USB-C Charging Cable|              1|    11.95|12/16/19 15:10|928 12th St, Port...|   OR|      Portland|\n",
      "| 295672|USB-C Charging Cable|              2|    11.95|12/13/19 09:29|813 Hickory St, D...|   TX|        Dallas|\n",
      "| 295673|Bose SoundSport H...|              1|    99.99|12/15/19 23:26|718 Wilson St, Da...|   TX|        Dallas|\n",
      "| 295674|AAA Batteries (4-...|              4|     2.99|12/28/19 11:51|77 7th St, Dallas...|   TX|        Dallas|\n",
      "| 295675|USB-C Charging Cable|              2|    11.95|12/13/19 13:52|594 1st St, San F...|   CA| San Francisco|\n",
      "| 295676|     ThinkPad Laptop|              1|   999.99|12/28/19 17:19|410 Lincoln St, L...|   CA|   Los Angeles|\n",
      "| 295677|AA Batteries (4-p...|              2|     3.84|12/20/19 19:19|866 Pine St, Bost...|   MA|        Boston|\n",
      "| 295678|AAA Batteries (4-...|              2|     2.99|12/06/19 09:38|187 Lincoln St, D...|   TX|        Dallas|\n",
      "| 295679|USB-C Charging Cable|              1|    11.95|12/25/19 09:39|902 2nd St, Dalla...|   TX|        Dallas|\n",
      "| 295680|Lightning Chargin...|              1|    14.95|12/01/19 14:30|338 Main St, Aust...|   TX|        Austin|\n",
      "| 295681|        Google Phone|              1|      600|12/25/19 12:37|79 Elm St, Boston...|   MA|        Boston|\n",
      "| 295681|USB-C Charging Cable|              1|    11.95|12/25/19 12:37|79 Elm St, Boston...|   MA|        Boston|\n",
      "| 295681|Bose SoundSport H...|              1|    99.99|12/25/19 12:37|79 Elm St, Boston...|   MA|        Boston|\n",
      "| 295681|    Wired Headphones|              1|    11.99|12/25/19 12:37|79 Elm St, Boston...|   MA|        Boston|\n",
      "+-------+--------------------+---------------+---------+--------------+--------------------+-----+--------------+\n",
      "only showing top 20 rows\n",
      "\n"
     ]
    }
   ],
   "source": [
    "extract_df_3.show()"
   ]
  },
  {
   "cell_type": "markdown",
   "id": "f355d18f-c22e-4fe3-86e8-d309cadabcfd",
   "metadata": {},
   "source": [
    "### Standarize Data Types and Column Rename"
   ]
  },
  {
   "cell_type": "markdown",
   "id": "c0604c0a-bfa2-4267-9aa7-6d616edf712e",
   "metadata": {},
   "source": [
    "**Rename Columns;**\n",
    "\n",
    "Order ID -> OrderID\n",
    "\n",
    "Quantity Ordered -> Quantity\n",
    "\n",
    "Order Date -> OrderDate\n",
    "\n",
    "Purchase Address -> StoreAddress\n",
    "\n",
    "\n",
    "**Change DataTypes;**\n",
    "\n",
    "OrderID = Integer\n",
    "\n",
    "Product = String\n",
    "\n",
    "Quantity = Integer\n",
    "\n",
    "Price = Float\n",
    "\n",
    "OrderDate = Timestamp with Format: \"MM/dd/yy HH:mm\"\n",
    "\n",
    "StoreAddress = String\n",
    "\n",
    "City = String\n",
    "\n",
    "State = String"
   ]
  },
  {
   "cell_type": "markdown",
   "id": "656ff8bd-b7f0-4ae2-bcd8-561aaaf2276c",
   "metadata": {},
   "source": [
    "### Change Type to Timestamp"
   ]
  },
  {
   "cell_type": "code",
   "execution_count": 88,
   "id": "29f14d4e-83a5-48ff-a3e8-7f2031d69b85",
   "metadata": {
    "tags": []
   },
   "outputs": [],
   "source": [
    "from pyspark.sql.functions import year, month, to_timestamp\n",
    "from pyspark.sql.types import IntegerType, FloatType"
   ]
  },
  {
   "cell_type": "code",
   "execution_count": 89,
   "id": "a2fc483e-3aef-4366-bc60-f9c31a85016f",
   "metadata": {
    "tags": []
   },
   "outputs": [],
   "source": [
    "temp_df = (extract_df_3.withColumn(\"orderID\", col(\"orderID\").cast(IntegerType()))\n",
    "           .withColumn(\"Quantity\", col(\"quantityOrdered\").cast(IntegerType())) \n",
    "           .withColumn(\"orderDate\", to_timestamp(\"orderDate\", \"MM/dd/yy HH:mm\")) \n",
    "           .withColumn(\"Price\", col(\"priceEach\").cast(FloatType()))\n",
    "           .withColumnRenamed(\"purchaseAddress\",\"StoreAddress\")\n",
    "           .drop(\"priceEach\")\n",
    "           .drop(\"quantityOrdered\"))"
   ]
  },
  {
   "cell_type": "code",
   "execution_count": 90,
   "id": "ceff7921-053f-404c-8446-3ba006c0acae",
   "metadata": {
    "tags": []
   },
   "outputs": [
    {
     "name": "stdout",
     "output_type": "stream",
     "text": [
      "+-------+--------------------+-------------------+--------------------+-----+--------------+--------+------+\n",
      "|orderID|             product|          orderDate|        StoreAddress|State|          City|Quantity| Price|\n",
      "+-------+--------------------+-------------------+--------------------+-----+--------------+--------+------+\n",
      "| 295665|  Macbook Pro Laptop|2019-12-30 00:01:00|136 Church St, Ne...|   NY| New York City|       1|1700.0|\n",
      "| 295666|  LG Washing Machine|2019-12-29 07:03:00|562 2nd St, New Y...|   NY| New York City|       1| 600.0|\n",
      "| 295667|USB-C Charging Cable|2019-12-12 18:21:00|277 Main St, New ...|   NY| New York City|       1| 11.95|\n",
      "| 295668|    27in FHD Monitor|2019-12-22 15:13:00|410 6th St, San F...|   CA| San Francisco|       1|149.99|\n",
      "| 295669|USB-C Charging Cable|2019-12-18 12:38:00|43 Hill St, Atlan...|   GA|       Atlanta|       1| 11.95|\n",
      "| 295670|AA Batteries (4-p...|2019-12-31 22:58:00|200 Jefferson St,...|   NY| New York City|       1|  3.84|\n",
      "| 295671|USB-C Charging Cable|2019-12-16 15:10:00|928 12th St, Port...|   OR|      Portland|       1| 11.95|\n",
      "| 295672|USB-C Charging Cable|2019-12-13 09:29:00|813 Hickory St, D...|   TX|        Dallas|       2| 11.95|\n",
      "| 295673|Bose SoundSport H...|2019-12-15 23:26:00|718 Wilson St, Da...|   TX|        Dallas|       1| 99.99|\n",
      "| 295674|AAA Batteries (4-...|2019-12-28 11:51:00|77 7th St, Dallas...|   TX|        Dallas|       4|  2.99|\n",
      "| 295675|USB-C Charging Cable|2019-12-13 13:52:00|594 1st St, San F...|   CA| San Francisco|       2| 11.95|\n",
      "| 295676|     ThinkPad Laptop|2019-12-28 17:19:00|410 Lincoln St, L...|   CA|   Los Angeles|       1|999.99|\n",
      "| 295677|AA Batteries (4-p...|2019-12-20 19:19:00|866 Pine St, Bost...|   MA|        Boston|       2|  3.84|\n",
      "| 295678|AAA Batteries (4-...|2019-12-06 09:38:00|187 Lincoln St, D...|   TX|        Dallas|       2|  2.99|\n",
      "| 295679|USB-C Charging Cable|2019-12-25 09:39:00|902 2nd St, Dalla...|   TX|        Dallas|       1| 11.95|\n",
      "| 295680|Lightning Chargin...|2019-12-01 14:30:00|338 Main St, Aust...|   TX|        Austin|       1| 14.95|\n",
      "| 295681|        Google Phone|2019-12-25 12:37:00|79 Elm St, Boston...|   MA|        Boston|       1| 600.0|\n",
      "| 295681|USB-C Charging Cable|2019-12-25 12:37:00|79 Elm St, Boston...|   MA|        Boston|       1| 11.95|\n",
      "| 295681|Bose SoundSport H...|2019-12-25 12:37:00|79 Elm St, Boston...|   MA|        Boston|       1| 99.99|\n",
      "| 295681|    Wired Headphones|2019-12-25 12:37:00|79 Elm St, Boston...|   MA|        Boston|       1| 11.99|\n",
      "+-------+--------------------+-------------------+--------------------+-----+--------------+--------+------+\n",
      "only showing top 20 rows\n",
      "\n"
     ]
    }
   ],
   "source": [
    "temp_df.show()"
   ]
  },
  {
   "cell_type": "code",
   "execution_count": 91,
   "id": "b74c0394-a5eb-45b5-befb-e07884a4cbbd",
   "metadata": {
    "tags": []
   },
   "outputs": [
    {
     "name": "stdout",
     "output_type": "stream",
     "text": [
      "root\n",
      " |-- orderID: integer (nullable = true)\n",
      " |-- product: string (nullable = true)\n",
      " |-- orderDate: timestamp (nullable = true)\n",
      " |-- StoreAddress: string (nullable = true)\n",
      " |-- State: string (nullable = true)\n",
      " |-- City: string (nullable = true)\n",
      " |-- Quantity: integer (nullable = true)\n",
      " |-- Price: float (nullable = true)\n",
      "\n"
     ]
    }
   ],
   "source": [
    "temp_df.printSchema()"
   ]
  },
  {
   "cell_type": "markdown",
   "id": "b882b43c-d1b3-42de-b712-746310a171ec",
   "metadata": {},
   "source": [
    "### Get Year"
   ]
  },
  {
   "cell_type": "code",
   "execution_count": 92,
   "id": "0b54ec9c-9176-4e42-9c0e-14b4089fbe40",
   "metadata": {
    "tags": []
   },
   "outputs": [],
   "source": [
    "year_df = temp_df.withColumn(\"ReportYear\", year(\"orderDate\"))"
   ]
  },
  {
   "cell_type": "code",
   "execution_count": 93,
   "id": "2c847ba8-8a6e-4d01-a76b-04dd0b0bec8d",
   "metadata": {
    "tags": []
   },
   "outputs": [
    {
     "name": "stdout",
     "output_type": "stream",
     "text": [
      "+-------+--------------------+-------------------+--------------------+-----+--------------+--------+------+----------+\n",
      "|orderID|             product|          orderDate|        StoreAddress|State|          City|Quantity| Price|ReportYear|\n",
      "+-------+--------------------+-------------------+--------------------+-----+--------------+--------+------+----------+\n",
      "| 295665|  Macbook Pro Laptop|2019-12-30 00:01:00|136 Church St, Ne...|   NY| New York City|       1|1700.0|      2019|\n",
      "| 295666|  LG Washing Machine|2019-12-29 07:03:00|562 2nd St, New Y...|   NY| New York City|       1| 600.0|      2019|\n",
      "| 295667|USB-C Charging Cable|2019-12-12 18:21:00|277 Main St, New ...|   NY| New York City|       1| 11.95|      2019|\n",
      "| 295668|    27in FHD Monitor|2019-12-22 15:13:00|410 6th St, San F...|   CA| San Francisco|       1|149.99|      2019|\n",
      "| 295669|USB-C Charging Cable|2019-12-18 12:38:00|43 Hill St, Atlan...|   GA|       Atlanta|       1| 11.95|      2019|\n",
      "| 295670|AA Batteries (4-p...|2019-12-31 22:58:00|200 Jefferson St,...|   NY| New York City|       1|  3.84|      2019|\n",
      "| 295671|USB-C Charging Cable|2019-12-16 15:10:00|928 12th St, Port...|   OR|      Portland|       1| 11.95|      2019|\n",
      "| 295672|USB-C Charging Cable|2019-12-13 09:29:00|813 Hickory St, D...|   TX|        Dallas|       2| 11.95|      2019|\n",
      "| 295673|Bose SoundSport H...|2019-12-15 23:26:00|718 Wilson St, Da...|   TX|        Dallas|       1| 99.99|      2019|\n",
      "| 295674|AAA Batteries (4-...|2019-12-28 11:51:00|77 7th St, Dallas...|   TX|        Dallas|       4|  2.99|      2019|\n",
      "| 295675|USB-C Charging Cable|2019-12-13 13:52:00|594 1st St, San F...|   CA| San Francisco|       2| 11.95|      2019|\n",
      "| 295676|     ThinkPad Laptop|2019-12-28 17:19:00|410 Lincoln St, L...|   CA|   Los Angeles|       1|999.99|      2019|\n",
      "| 295677|AA Batteries (4-p...|2019-12-20 19:19:00|866 Pine St, Bost...|   MA|        Boston|       2|  3.84|      2019|\n",
      "| 295678|AAA Batteries (4-...|2019-12-06 09:38:00|187 Lincoln St, D...|   TX|        Dallas|       2|  2.99|      2019|\n",
      "| 295679|USB-C Charging Cable|2019-12-25 09:39:00|902 2nd St, Dalla...|   TX|        Dallas|       1| 11.95|      2019|\n",
      "| 295680|Lightning Chargin...|2019-12-01 14:30:00|338 Main St, Aust...|   TX|        Austin|       1| 14.95|      2019|\n",
      "| 295681|        Google Phone|2019-12-25 12:37:00|79 Elm St, Boston...|   MA|        Boston|       1| 600.0|      2019|\n",
      "| 295681|USB-C Charging Cable|2019-12-25 12:37:00|79 Elm St, Boston...|   MA|        Boston|       1| 11.95|      2019|\n",
      "| 295681|Bose SoundSport H...|2019-12-25 12:37:00|79 Elm St, Boston...|   MA|        Boston|       1| 99.99|      2019|\n",
      "| 295681|    Wired Headphones|2019-12-25 12:37:00|79 Elm St, Boston...|   MA|        Boston|       1| 11.99|      2019|\n",
      "+-------+--------------------+-------------------+--------------------+-----+--------------+--------+------+----------+\n",
      "only showing top 20 rows\n",
      "\n"
     ]
    }
   ],
   "source": [
    "year_df.show()"
   ]
  },
  {
   "cell_type": "markdown",
   "id": "78260573-96cc-4e70-9ceb-fcc58b5b8e0e",
   "metadata": {},
   "source": [
    "### Get Month"
   ]
  },
  {
   "cell_type": "code",
   "execution_count": 94,
   "id": "f5312b3c-7d3e-47c9-afba-aefacd3207b3",
   "metadata": {
    "tags": []
   },
   "outputs": [],
   "source": [
    "temp_year_df = year_df.withColumn(\"Month\", month(\"orderDate\"))"
   ]
  },
  {
   "cell_type": "code",
   "execution_count": 95,
   "id": "bf2a0069-7ce5-4de7-8730-b0ddbd284350",
   "metadata": {
    "tags": []
   },
   "outputs": [
    {
     "name": "stdout",
     "output_type": "stream",
     "text": [
      "+-------+--------------------+-------------------+--------------------+-----+--------------+--------+------+----------+-----+\n",
      "|orderID|             product|          orderDate|        StoreAddress|State|          City|Quantity| Price|ReportYear|Month|\n",
      "+-------+--------------------+-------------------+--------------------+-----+--------------+--------+------+----------+-----+\n",
      "| 295665|  Macbook Pro Laptop|2019-12-30 00:01:00|136 Church St, Ne...|   NY| New York City|       1|1700.0|      2019|   12|\n",
      "| 295666|  LG Washing Machine|2019-12-29 07:03:00|562 2nd St, New Y...|   NY| New York City|       1| 600.0|      2019|   12|\n",
      "| 295667|USB-C Charging Cable|2019-12-12 18:21:00|277 Main St, New ...|   NY| New York City|       1| 11.95|      2019|   12|\n",
      "| 295668|    27in FHD Monitor|2019-12-22 15:13:00|410 6th St, San F...|   CA| San Francisco|       1|149.99|      2019|   12|\n",
      "| 295669|USB-C Charging Cable|2019-12-18 12:38:00|43 Hill St, Atlan...|   GA|       Atlanta|       1| 11.95|      2019|   12|\n",
      "| 295670|AA Batteries (4-p...|2019-12-31 22:58:00|200 Jefferson St,...|   NY| New York City|       1|  3.84|      2019|   12|\n",
      "| 295671|USB-C Charging Cable|2019-12-16 15:10:00|928 12th St, Port...|   OR|      Portland|       1| 11.95|      2019|   12|\n",
      "| 295672|USB-C Charging Cable|2019-12-13 09:29:00|813 Hickory St, D...|   TX|        Dallas|       2| 11.95|      2019|   12|\n",
      "| 295673|Bose SoundSport H...|2019-12-15 23:26:00|718 Wilson St, Da...|   TX|        Dallas|       1| 99.99|      2019|   12|\n",
      "| 295674|AAA Batteries (4-...|2019-12-28 11:51:00|77 7th St, Dallas...|   TX|        Dallas|       4|  2.99|      2019|   12|\n",
      "| 295675|USB-C Charging Cable|2019-12-13 13:52:00|594 1st St, San F...|   CA| San Francisco|       2| 11.95|      2019|   12|\n",
      "| 295676|     ThinkPad Laptop|2019-12-28 17:19:00|410 Lincoln St, L...|   CA|   Los Angeles|       1|999.99|      2019|   12|\n",
      "| 295677|AA Batteries (4-p...|2019-12-20 19:19:00|866 Pine St, Bost...|   MA|        Boston|       2|  3.84|      2019|   12|\n",
      "| 295678|AAA Batteries (4-...|2019-12-06 09:38:00|187 Lincoln St, D...|   TX|        Dallas|       2|  2.99|      2019|   12|\n",
      "| 295679|USB-C Charging Cable|2019-12-25 09:39:00|902 2nd St, Dalla...|   TX|        Dallas|       1| 11.95|      2019|   12|\n",
      "| 295680|Lightning Chargin...|2019-12-01 14:30:00|338 Main St, Aust...|   TX|        Austin|       1| 14.95|      2019|   12|\n",
      "| 295681|        Google Phone|2019-12-25 12:37:00|79 Elm St, Boston...|   MA|        Boston|       1| 600.0|      2019|   12|\n",
      "| 295681|USB-C Charging Cable|2019-12-25 12:37:00|79 Elm St, Boston...|   MA|        Boston|       1| 11.95|      2019|   12|\n",
      "| 295681|Bose SoundSport H...|2019-12-25 12:37:00|79 Elm St, Boston...|   MA|        Boston|       1| 99.99|      2019|   12|\n",
      "| 295681|    Wired Headphones|2019-12-25 12:37:00|79 Elm St, Boston...|   MA|        Boston|       1| 11.99|      2019|   12|\n",
      "+-------+--------------------+-------------------+--------------------+-----+--------------+--------+------+----------+-----+\n",
      "only showing top 20 rows\n",
      "\n"
     ]
    }
   ],
   "source": [
    "temp_year_df.show()"
   ]
  },
  {
   "cell_type": "markdown",
   "id": "cef7e00c-4344-470d-a8d3-84ebb17c4d90",
   "metadata": {},
   "source": [
    "### Output to Paraquet"
   ]
  },
  {
   "cell_type": "code",
   "execution_count": 96,
   "id": "01f7789a-b29a-49fe-b915-9ad4ceb168e6",
   "metadata": {
    "tags": []
   },
   "outputs": [],
   "source": [
    "final_df = temp_year_df.select(\"orderId\",\"product\",\"orderDate\",\"StoreAddress\",\"State\",\"City\",\"Quantity\",\"Price\",\"ReportYear\",\"Month\")"
   ]
  },
  {
   "cell_type": "code",
   "execution_count": 97,
   "id": "aecfc242-03ed-400c-9ded-70c41abfabd0",
   "metadata": {
    "tags": []
   },
   "outputs": [],
   "source": [
    "output_path = \"./data/output/sales\""
   ]
  },
  {
   "cell_type": "code",
   "execution_count": 98,
   "id": "427987cb-b719-4c8f-a2f5-70a7456293be",
   "metadata": {
    "tags": []
   },
   "outputs": [],
   "source": [
    "final_df.write.mode(\"overwrite\").partitionBy(\"ReportYear\",\"Month\").parquet(output_path)"
   ]
  },
  {
   "cell_type": "markdown",
   "id": "1b0e5cb0-5c7e-46fa-8532-fa28db4af4a0",
   "metadata": {
    "tags": []
   },
   "source": [
    "## Challenge 3 - Sales Analytics Year 2019"
   ]
  },
  {
   "cell_type": "code",
   "execution_count": 99,
   "id": "8e8dc68a-7586-43b8-aa8e-00ec766024e2",
   "metadata": {
    "tags": []
   },
   "outputs": [],
   "source": [
    "sales_path = './data/output/sales/'\n",
    "partition = 'ReportYear=2019'\n",
    "sales_2019_path = f\"{sales_path}{partition}\""
   ]
  },
  {
   "cell_type": "code",
   "execution_count": 100,
   "id": "69dad92e-e82d-406e-a6cd-f39336376e01",
   "metadata": {
    "tags": []
   },
   "outputs": [],
   "source": [
    "sales2019_df = spark.read.parquet(sales_2019_path)"
   ]
  },
  {
   "cell_type": "code",
   "execution_count": 101,
   "id": "ff4eb965-bc7e-4686-a214-90473d287668",
   "metadata": {
    "tags": []
   },
   "outputs": [
    {
     "name": "stdout",
     "output_type": "stream",
     "text": [
      "+-------+--------------------------+-------------------+-----------------------------------------+-----+--------------+--------+------+-----+\n",
      "|orderId|product                   |orderDate          |StoreAddress                             |State|City          |Quantity|Price |Month|\n",
      "+-------+--------------------------+-------------------+-----------------------------------------+-----+--------------+--------+------+-----+\n",
      "|295665 |Macbook Pro Laptop        |2019-12-30 00:01:00|136 Church St, New York City, NY 10001   |NY   | New York City|1       |1700.0|12   |\n",
      "|295666 |LG Washing Machine        |2019-12-29 07:03:00|562 2nd St, New York City, NY 10001      |NY   | New York City|1       |600.0 |12   |\n",
      "|295667 |USB-C Charging Cable      |2019-12-12 18:21:00|277 Main St, New York City, NY 10001     |NY   | New York City|1       |11.95 |12   |\n",
      "|295668 |27in FHD Monitor          |2019-12-22 15:13:00|410 6th St, San Francisco, CA 94016      |CA   | San Francisco|1       |149.99|12   |\n",
      "|295669 |USB-C Charging Cable      |2019-12-18 12:38:00|43 Hill St, Atlanta, GA 30301            |GA   | Atlanta      |1       |11.95 |12   |\n",
      "|295670 |AA Batteries (4-pack)     |2019-12-31 22:58:00|200 Jefferson St, New York City, NY 10001|NY   | New York City|1       |3.84  |12   |\n",
      "|295671 |USB-C Charging Cable      |2019-12-16 15:10:00|928 12th St, Portland, OR 97035          |OR   | Portland     |1       |11.95 |12   |\n",
      "|295672 |USB-C Charging Cable      |2019-12-13 09:29:00|813 Hickory St, Dallas, TX 75001         |TX   | Dallas       |2       |11.95 |12   |\n",
      "|295673 |Bose SoundSport Headphones|2019-12-15 23:26:00|718 Wilson St, Dallas, TX 75001          |TX   | Dallas       |1       |99.99 |12   |\n",
      "|295674 |AAA Batteries (4-pack)    |2019-12-28 11:51:00|77 7th St, Dallas, TX 75001              |TX   | Dallas       |4       |2.99  |12   |\n",
      "|295675 |USB-C Charging Cable      |2019-12-13 13:52:00|594 1st St, San Francisco, CA 94016      |CA   | San Francisco|2       |11.95 |12   |\n",
      "|295676 |ThinkPad Laptop           |2019-12-28 17:19:00|410 Lincoln St, Los Angeles, CA 90001    |CA   | Los Angeles  |1       |999.99|12   |\n",
      "|295677 |AA Batteries (4-pack)     |2019-12-20 19:19:00|866 Pine St, Boston, MA 02215            |MA   | Boston       |2       |3.84  |12   |\n",
      "|295678 |AAA Batteries (4-pack)    |2019-12-06 09:38:00|187 Lincoln St, Dallas, TX 75001         |TX   | Dallas       |2       |2.99  |12   |\n",
      "|295679 |USB-C Charging Cable      |2019-12-25 09:39:00|902 2nd St, Dallas, TX 75001             |TX   | Dallas       |1       |11.95 |12   |\n",
      "|295680 |Lightning Charging Cable  |2019-12-01 14:30:00|338 Main St, Austin, TX 73301            |TX   | Austin       |1       |14.95 |12   |\n",
      "|295681 |Google Phone              |2019-12-25 12:37:00|79 Elm St, Boston, MA 02215              |MA   | Boston       |1       |600.0 |12   |\n",
      "|295681 |USB-C Charging Cable      |2019-12-25 12:37:00|79 Elm St, Boston, MA 02215              |MA   | Boston       |1       |11.95 |12   |\n",
      "|295681 |Bose SoundSport Headphones|2019-12-25 12:37:00|79 Elm St, Boston, MA 02215              |MA   | Boston       |1       |99.99 |12   |\n",
      "|295681 |Wired Headphones          |2019-12-25 12:37:00|79 Elm St, Boston, MA 02215              |MA   | Boston       |1       |11.99 |12   |\n",
      "+-------+--------------------------+-------------------+-----------------------------------------+-----+--------------+--------+------+-----+\n",
      "only showing top 20 rows\n",
      "\n"
     ]
    }
   ],
   "source": [
    "sales2019_df.show(truncate=False)"
   ]
  },
  {
   "cell_type": "code",
   "execution_count": 102,
   "id": "abd55464-0e66-46b0-8eca-7fca44a1eb04",
   "metadata": {
    "tags": []
   },
   "outputs": [
    {
     "name": "stdout",
     "output_type": "stream",
     "text": [
      "root\n",
      " |-- orderId: integer (nullable = true)\n",
      " |-- product: string (nullable = true)\n",
      " |-- orderDate: timestamp (nullable = true)\n",
      " |-- StoreAddress: string (nullable = true)\n",
      " |-- State: string (nullable = true)\n",
      " |-- City: string (nullable = true)\n",
      " |-- Quantity: integer (nullable = true)\n",
      " |-- Price: float (nullable = true)\n",
      " |-- Month: integer (nullable = true)\n",
      "\n"
     ]
    }
   ],
   "source": [
    "sales2019_df.printSchema()"
   ]
  },
  {
   "cell_type": "code",
   "execution_count": 103,
   "id": "a0415cff-0f73-4d3e-b6cc-cc9b7fb5fa51",
   "metadata": {
    "tags": []
   },
   "outputs": [],
   "source": [
    "sales_q1_df = (sales2019_df.select(col(\"orderId\"),\n",
    "                                   col(\"Month\"),\n",
    "                                   col(\"Price\"),\n",
    "                                   col(\"Quantity\"),\n",
    "                                   expr(\"Price*Quantity\").alias(\"Sales\")))"
   ]
  },
  {
   "cell_type": "code",
   "execution_count": 116,
   "id": "d5e31fde-8267-4366-b3c6-e32cc696af4c",
   "metadata": {
    "tags": []
   },
   "outputs": [],
   "source": [
    "from pyspark.sql.functions import sum, round\n",
    "import pandas as pd\n",
    "import seaborn as sns\n",
    "import matplotlib.pyplot as plt"
   ]
  },
  {
   "cell_type": "markdown",
   "id": "e1a91fee-7f19-4576-a000-f4b5e6961146",
   "metadata": {},
   "source": [
    "#### Highest Sales in Month."
   ]
  },
  {
   "cell_type": "code",
   "execution_count": 105,
   "id": "801e1307-d49e-4afa-8609-a4ff8f942cba",
   "metadata": {
    "tags": []
   },
   "outputs": [],
   "source": [
    "sales_q1_df = (sales_q1_df.\n",
    "               groupBy(\"Month\").\n",
    "               agg(sum(\"Sales\").alias(\"TotalSales\")).\n",
    "               orderBy(\"TotalSales\", ascending=False))"
   ]
  },
  {
   "cell_type": "code",
   "execution_count": 106,
   "id": "67bf29c6-13ab-4170-8629-bba39abae218",
   "metadata": {
    "tags": []
   },
   "outputs": [
    {
     "name": "stdout",
     "output_type": "stream",
     "text": [
      "+-----+------------------+\n",
      "|Month|        TotalSales|\n",
      "+-----+------------------+\n",
      "|   12|  4613443.31607008|\n",
      "|   10| 3736726.860444069|\n",
      "|    4|3390670.2231714725|\n",
      "|   11| 3199603.184257984|\n",
      "|    5|3152606.7349271774|\n",
      "|    3|2807100.3656582832|\n",
      "|    7|2647775.7468385696|\n",
      "|    6| 2577802.247295618|\n",
      "|    8|2244467.8685896397|\n",
      "|    2| 2202022.408319235|\n",
      "|    9|2097560.1194250584|\n",
      "|    1| 1813586.431374073|\n",
      "+-----+------------------+\n",
      "\n"
     ]
    }
   ],
   "source": [
    "sales_q1_df.show()"
   ]
  },
  {
   "cell_type": "code",
   "execution_count": 107,
   "id": "08543a53-37a3-4f84-95f6-1749a0190e25",
   "metadata": {
    "tags": []
   },
   "outputs": [],
   "source": [
    "sales_q1_pd = (sales_q1_df.orderBy(\"Month\")).toPandas()"
   ]
  },
  {
   "cell_type": "code",
   "execution_count": 113,
   "id": "34d3480a-721d-4230-82d8-d0f8a78d9124",
   "metadata": {
    "tags": []
   },
   "outputs": [
    {
     "data": {
      "text/html": [
       "<div>\n",
       "<style scoped>\n",
       "    .dataframe tbody tr th:only-of-type {\n",
       "        vertical-align: middle;\n",
       "    }\n",
       "\n",
       "    .dataframe tbody tr th {\n",
       "        vertical-align: top;\n",
       "    }\n",
       "\n",
       "    .dataframe thead th {\n",
       "        text-align: right;\n",
       "    }\n",
       "</style>\n",
       "<table border=\"1\" class=\"dataframe\">\n",
       "  <thead>\n",
       "    <tr style=\"text-align: right;\">\n",
       "      <th></th>\n",
       "      <th>Month</th>\n",
       "      <th>TotalSales</th>\n",
       "    </tr>\n",
       "  </thead>\n",
       "  <tbody>\n",
       "    <tr>\n",
       "      <th>0</th>\n",
       "      <td>1</td>\n",
       "      <td>1.813586e+06</td>\n",
       "    </tr>\n",
       "    <tr>\n",
       "      <th>1</th>\n",
       "      <td>2</td>\n",
       "      <td>2.202022e+06</td>\n",
       "    </tr>\n",
       "    <tr>\n",
       "      <th>2</th>\n",
       "      <td>3</td>\n",
       "      <td>2.807100e+06</td>\n",
       "    </tr>\n",
       "    <tr>\n",
       "      <th>3</th>\n",
       "      <td>4</td>\n",
       "      <td>3.390670e+06</td>\n",
       "    </tr>\n",
       "    <tr>\n",
       "      <th>4</th>\n",
       "      <td>5</td>\n",
       "      <td>3.152607e+06</td>\n",
       "    </tr>\n",
       "    <tr>\n",
       "      <th>5</th>\n",
       "      <td>6</td>\n",
       "      <td>2.577802e+06</td>\n",
       "    </tr>\n",
       "    <tr>\n",
       "      <th>6</th>\n",
       "      <td>7</td>\n",
       "      <td>2.647776e+06</td>\n",
       "    </tr>\n",
       "    <tr>\n",
       "      <th>7</th>\n",
       "      <td>8</td>\n",
       "      <td>2.244468e+06</td>\n",
       "    </tr>\n",
       "    <tr>\n",
       "      <th>8</th>\n",
       "      <td>9</td>\n",
       "      <td>2.097560e+06</td>\n",
       "    </tr>\n",
       "    <tr>\n",
       "      <th>9</th>\n",
       "      <td>10</td>\n",
       "      <td>3.736727e+06</td>\n",
       "    </tr>\n",
       "    <tr>\n",
       "      <th>10</th>\n",
       "      <td>11</td>\n",
       "      <td>3.199603e+06</td>\n",
       "    </tr>\n",
       "    <tr>\n",
       "      <th>11</th>\n",
       "      <td>12</td>\n",
       "      <td>4.613443e+06</td>\n",
       "    </tr>\n",
       "  </tbody>\n",
       "</table>\n",
       "</div>"
      ],
      "text/plain": [
       "    Month    TotalSales\n",
       "0       1  1.813586e+06\n",
       "1       2  2.202022e+06\n",
       "2       3  2.807100e+06\n",
       "3       4  3.390670e+06\n",
       "4       5  3.152607e+06\n",
       "5       6  2.577802e+06\n",
       "6       7  2.647776e+06\n",
       "7       8  2.244468e+06\n",
       "8       9  2.097560e+06\n",
       "9      10  3.736727e+06\n",
       "10     11  3.199603e+06\n",
       "11     12  4.613443e+06"
      ]
     },
     "execution_count": 113,
     "metadata": {},
     "output_type": "execute_result"
    }
   ],
   "source": [
    "sales_q1_pd"
   ]
  },
  {
   "cell_type": "code",
   "execution_count": 118,
   "id": "8356326f-008a-43ab-8a50-7d1c096414bb",
   "metadata": {
    "tags": []
   },
   "outputs": [
    {
     "data": {
      "image/png": "[encoded data removed]",
      "text/plain": [
       "<Figure size 900x600 with 1 Axes>"
      ]
     },
     "metadata": {},
     "output_type": "display_data"
    }
   ],
   "source": [
    "plt.figure(figsize=(9,6))\n",
    "ax = sns.barplot(x=\"Month\",y=\"TotalSales\",data=sales_q1_pd,palette=sns.color_palette('BuPu_r', n_colors=12))"
   ]
  },
  {
   "cell_type": "markdown",
   "id": "ec9c9c60-1849-4dde-b3ee-1ea2ddcc2e50",
   "metadata": {},
   "source": [
    "#### Which City Sold most Product."
   ]
  },
  {
   "cell_type": "code",
   "execution_count": 134,
   "id": "a5d2f90e-eeb6-4ca2-9de7-6fcaaa08c1ce",
   "metadata": {
    "tags": []
   },
   "outputs": [],
   "source": [
    "from pyspark.sql.functions import count, col, countDistinct"
   ]
  },
  {
   "cell_type": "code",
   "execution_count": 125,
   "id": "239eb5a4-7bea-4181-b359-4a32b7b3f640",
   "metadata": {
    "tags": []
   },
   "outputs": [],
   "source": [
    "product_q1_df = (sales2019_df.select(col(\"orderId\"),\n",
    "                                   col(\"product\").alias(\"Product\"),\n",
    "                                   col(\"City\"),\n",
    "                                   col(\"Month\"),\n",
    "                                   col(\"Price\"),\n",
    "                                   col(\"Quantity\")))"
   ]
  },
  {
   "cell_type": "code",
   "execution_count": 133,
   "id": "86b37198-29ff-4aab-9bb2-9ba4ae11ca0d",
   "metadata": {
    "tags": []
   },
   "outputs": [
    {
     "name": "stdout",
     "output_type": "stream",
     "text": [
      "+-------+--------------------+--------------+-----+------+--------+\n",
      "|orderId|             Product|          City|Month| Price|Quantity|\n",
      "+-------+--------------------+--------------+-----+------+--------+\n",
      "| 295665|  Macbook Pro Laptop| New York City|   12|1700.0|       1|\n",
      "| 295666|  LG Washing Machine| New York City|   12| 600.0|       1|\n",
      "| 295667|USB-C Charging Cable| New York City|   12| 11.95|       1|\n",
      "| 295668|    27in FHD Monitor| San Francisco|   12|149.99|       1|\n",
      "| 295669|USB-C Charging Cable|       Atlanta|   12| 11.95|       1|\n",
      "| 295670|AA Batteries (4-p...| New York City|   12|  3.84|       1|\n",
      "| 295671|USB-C Charging Cable|      Portland|   12| 11.95|       1|\n",
      "| 295672|USB-C Charging Cable|        Dallas|   12| 11.95|       2|\n",
      "| 295673|Bose SoundSport H...|        Dallas|   12| 99.99|       1|\n",
      "| 295674|AAA Batteries (4-...|        Dallas|   12|  2.99|       4|\n",
      "| 295675|USB-C Charging Cable| San Francisco|   12| 11.95|       2|\n",
      "| 295676|     ThinkPad Laptop|   Los Angeles|   12|999.99|       1|\n",
      "| 295677|AA Batteries (4-p...|        Boston|   12|  3.84|       2|\n",
      "| 295678|AAA Batteries (4-...|        Dallas|   12|  2.99|       2|\n",
      "| 295679|USB-C Charging Cable|        Dallas|   12| 11.95|       1|\n",
      "| 295680|Lightning Chargin...|        Austin|   12| 14.95|       1|\n",
      "| 295681|        Google Phone|        Boston|   12| 600.0|       1|\n",
      "| 295681|USB-C Charging Cable|        Boston|   12| 11.95|       1|\n",
      "| 295681|Bose SoundSport H...|        Boston|   12| 99.99|       1|\n",
      "| 295681|    Wired Headphones|        Boston|   12| 11.99|       1|\n",
      "+-------+--------------------+--------------+-----+------+--------+\n",
      "only showing top 20 rows\n",
      "\n"
     ]
    }
   ],
   "source": [
    "product_q1_df.show()"
   ]
  },
  {
   "cell_type": "code",
   "execution_count": 137,
   "id": "1fb8d878-4221-4312-9977-46d3637b5433",
   "metadata": {
    "tags": []
   },
   "outputs": [],
   "source": [
    "product_q1_df_sold = (product_q1_df.\n",
    "               groupBy(\"City\").\n",
    "               agg(sum(\"Quantity\").alias(\"qtySold\")).\n",
    "               orderBy(\"qtySold\", ascending=False))"
   ]
  },
  {
   "cell_type": "code",
   "execution_count": 138,
   "id": "1a8005d4-2b40-4627-902e-a7aee46f44ad",
   "metadata": {
    "tags": []
   },
   "outputs": [
    {
     "name": "stdout",
     "output_type": "stream",
     "text": [
      "+--------------+-------+\n",
      "|          City|qtySold|\n",
      "+--------------+-------+\n",
      "| San Francisco|  50226|\n",
      "|   Los Angeles|  33288|\n",
      "| New York City|  27916|\n",
      "|        Boston|  22524|\n",
      "|        Dallas|  16728|\n",
      "|       Atlanta|  16602|\n",
      "|       Seattle|  16552|\n",
      "|      Portland|  14051|\n",
      "|        Austin|  11151|\n",
      "+--------------+-------+\n",
      "\n"
     ]
    }
   ],
   "source": [
    "product_q1_df_sold.show()"
   ]
  },
  {
   "cell_type": "code",
   "execution_count": 140,
   "id": "70927011-a546-4c49-8489-39c7e77286db",
   "metadata": {
    "tags": []
   },
   "outputs": [],
   "source": [
    "product_q1_pd = (product_q1_df_sold.orderBy(\"qtySold\")).toPandas()"
   ]
  },
  {
   "cell_type": "code",
   "execution_count": 142,
   "id": "b9e30f3c-5249-45df-9fbd-c7ebdaf6c731",
   "metadata": {
    "tags": []
   },
   "outputs": [
    {
     "data": {
      "image/png": "[encoded data removed]",
      "text/plain": [
       "<Figure size 900x600 with 1 Axes>"
      ]
     },
     "metadata": {},
     "output_type": "display_data"
    }
   ],
   "source": [
    "plt.figure(figsize=(9,6))\n",
    "ax = sns.barplot(y=\"City\",x=\"qtySold\",data=product_q1_pd,palette=sns.color_palette('BuPu_r', n_colors=12))"
   ]
  },
  {
   "cell_type": "markdown",
   "id": "fc2a566b-80f9-4e4e-90cf-fd44c1905ad9",
   "metadata": {},
   "source": [
    "#### When Customer Purchase the most (Maximize Ads)"
   ]
  },
  {
   "cell_type": "code",
   "execution_count": 159,
   "id": "f57c654f-1c91-4505-b851-3da3fe53c0b2",
   "metadata": {
    "tags": []
   },
   "outputs": [],
   "source": [
    "from pyspark.sql.functions import col, date_format"
   ]
  },
  {
   "cell_type": "code",
   "execution_count": 170,
   "id": "f414dbd4-c233-4494-90d7-c33f2b7a28b8",
   "metadata": {
    "tags": []
   },
   "outputs": [
    {
     "name": "stdout",
     "output_type": "stream",
     "text": [
      "+-------+--------------------------+-------------------+---------------------------+-----+-------+--------+-----+-----+\n",
      "|orderId|product                   |orderDate          |StoreAddress               |State|City   |Quantity|Price|Month|\n",
      "+-------+--------------------------+-------------------+---------------------------+-----+-------+--------+-----+-----+\n",
      "|295681 |Google Phone              |2019-12-25 12:37:00|79 Elm St, Boston, MA 02215|MA   | Boston|1       |600.0|12   |\n",
      "|295681 |USB-C Charging Cable      |2019-12-25 12:37:00|79 Elm St, Boston, MA 02215|MA   | Boston|1       |11.95|12   |\n",
      "|295681 |Bose SoundSport Headphones|2019-12-25 12:37:00|79 Elm St, Boston, MA 02215|MA   | Boston|1       |99.99|12   |\n",
      "|295681 |Wired Headphones          |2019-12-25 12:37:00|79 Elm St, Boston, MA 02215|MA   | Boston|1       |11.99|12   |\n",
      "+-------+--------------------------+-------------------+---------------------------+-----+-------+--------+-----+-----+\n",
      "\n"
     ]
    }
   ],
   "source": [
    "sales2019_df.filter(col(\"orderId\") == \"295681\").show(truncate=False)"
   ]
  },
  {
   "cell_type": "markdown",
   "id": "30ef5e1e-3331-4e5a-8896-d084c1f1c020",
   "metadata": {},
   "source": [
    "in this case for each orderId has multiple product, this is mean for each orderId customer may purchase more than one product."
   ]
  },
  {
   "cell_type": "code",
   "execution_count": 160,
   "id": "77df5e5e-1ed1-49aa-8cc9-a1747038b306",
   "metadata": {
    "tags": []
   },
   "outputs": [],
   "source": [
    "hour_data_df = sales2019_df.select(col(\"orderId\"), date_format(\"orderDate\",\"HH\").cast('int').alias(\"Hour\"))"
   ]
  },
  {
   "cell_type": "code",
   "execution_count": 171,
   "id": "efe35043-adbf-442c-9a3b-405f94ee0447",
   "metadata": {
    "tags": []
   },
   "outputs": [
    {
     "name": "stdout",
     "output_type": "stream",
     "text": [
      "+-------+----+\n",
      "|orderId|Hour|\n",
      "+-------+----+\n",
      "| 295665|   0|\n",
      "| 295666|   7|\n",
      "| 295667|  18|\n",
      "| 295668|  15|\n",
      "| 295669|  12|\n",
      "| 295670|  22|\n",
      "| 295671|  15|\n",
      "| 295672|   9|\n",
      "| 295673|  23|\n",
      "| 295674|  11|\n",
      "| 295675|  13|\n",
      "| 295676|  17|\n",
      "| 295677|  19|\n",
      "| 295678|   9|\n",
      "| 295679|   9|\n",
      "| 295680|  14|\n",
      "| 295681|  12|\n",
      "| 295681|  12|\n",
      "| 295681|  12|\n",
      "| 295681|  12|\n",
      "+-------+----+\n",
      "only showing top 20 rows\n",
      "\n"
     ]
    }
   ],
   "source": [
    "hour_data_df.show()"
   ]
  },
  {
   "cell_type": "code",
   "execution_count": 167,
   "id": "9160402f-ea7a-40a3-94a0-1c60552c7a89",
   "metadata": {
    "tags": []
   },
   "outputs": [],
   "source": [
    "count_hour_purchase = hour_data_df.groupBy(\"Hour\").agg(countDistinct(\"orderId\").alias(\"TotalPurchase\")).orderBy(\"TotalPurchase\", ascending=False)"
   ]
  },
  {
   "cell_type": "code",
   "execution_count": 168,
   "id": "20274ffa-c32d-4047-9b7b-34b0f80ea2b6",
   "metadata": {
    "tags": []
   },
   "outputs": [
    {
     "name": "stdout",
     "output_type": "stream",
     "text": [
      "+----+-------------+\n",
      "|Hour|TotalPurchase|\n",
      "+----+-------------+\n",
      "|  19|        12377|\n",
      "|  12|        12082|\n",
      "|  11|        11882|\n",
      "|  20|        11763|\n",
      "|  18|        11761|\n",
      "|  13|        11682|\n",
      "|  14|        10522|\n",
      "|  21|        10499|\n",
      "|  10|        10492|\n",
      "|  17|        10476|\n",
      "|  16|         9960|\n",
      "|  15|         9761|\n",
      "|  22|         8453|\n",
      "|   9|         8404|\n",
      "|   8|         6036|\n",
      "|  23|         5990|\n",
      "|   7|         3836|\n",
      "|   0|         3748|\n",
      "|   6|         2375|\n",
      "|   1|         2246|\n",
      "+----+-------------+\n",
      "only showing top 20 rows\n",
      "\n"
     ]
    }
   ],
   "source": [
    "count_hour_purchase.show()"
   ]
  },
  {
   "cell_type": "markdown",
   "id": "df821588-cae6-4d94-a259-3bdb63666226",
   "metadata": {},
   "source": [
    "table above shown the hour where customer mostly purchase their product."
   ]
  },
  {
   "cell_type": "code",
   "execution_count": 173,
   "id": "b8928d2c-8de2-4d08-96b4-00753872747f",
   "metadata": {
    "tags": []
   },
   "outputs": [],
   "source": [
    "hour_purchase_pd = (count_hour_purchase.orderBy(\"TotalPurchase\")).toPandas()"
   ]
  },
  {
   "cell_type": "code",
   "execution_count": 175,
   "id": "b48dba94-5f33-44a7-9ab1-d17c68e9bf25",
   "metadata": {
    "tags": []
   },
   "outputs": [
    {
     "data": {
      "image/png": "[encoded data removed]",
      "text/plain": [
       "<Figure size 900x600 with 1 Axes>"
      ]
     },
     "metadata": {},
     "output_type": "display_data"
    }
   ],
   "source": [
    "plt.figure(figsize=(9,6))\n",
    "ax = sns.lineplot(x=\"Hour\",y=\"TotalPurchase\",data=hour_purchase_pd)"
   ]
  },
  {
   "cell_type": "markdown",
   "id": "66a6056e-074c-465d-acb6-dc36247497b2",
   "metadata": {},
   "source": [
    "#### Product that Bought together?"
   ]
  },
  {
   "cell_type": "markdown",
   "id": "fe400bf7-2cf6-40de-aecf-e208afc6b48a",
   "metadata": {},
   "source": [
    "suppose we want to know what is product that usually bought together at a single time."
   ]
  },
  {
   "cell_type": "code",
   "execution_count": 183,
   "id": "8ceca35c-0798-4bf5-a895-1332c0e3bc9f",
   "metadata": {
    "tags": []
   },
   "outputs": [],
   "source": [
    "from pyspark.sql.functions import collect_list, size"
   ]
  },
  {
   "cell_type": "code",
   "execution_count": 185,
   "id": "94fbd72e-33eb-4d53-8925-cfd9d61fe3de",
   "metadata": {
    "tags": []
   },
   "outputs": [],
   "source": [
    "product_q1_df_list = (product_q1_df.\n",
    "               groupBy(\"orderId\").\n",
    "               agg(collect_list(\"Product\").alias(\"productList\")).\n",
    "                     orderBy(\"orderId\"))"
   ]
  },
  {
   "cell_type": "code",
   "execution_count": 180,
   "id": "8675360b-d6cc-4ee6-9c5b-24966f966925",
   "metadata": {
    "tags": []
   },
   "outputs": [
    {
     "name": "stdout",
     "output_type": "stream",
     "text": [
      "+-------+----------------------------+\n",
      "|orderId|productList                 |\n",
      "+-------+----------------------------+\n",
      "|141234 |[iPhone]                    |\n",
      "|141235 |[Lightning Charging Cable]  |\n",
      "|141236 |[Wired Headphones]          |\n",
      "|141237 |[27in FHD Monitor]          |\n",
      "|141238 |[Wired Headphones]          |\n",
      "|141239 |[AAA Batteries (4-pack)]    |\n",
      "|141240 |[27in 4K Gaming Monitor]    |\n",
      "|141241 |[USB-C Charging Cable]      |\n",
      "|141242 |[Bose SoundSport Headphones]|\n",
      "|141243 |[Apple Airpods Headphones]  |\n",
      "|141244 |[Apple Airpods Headphones]  |\n",
      "|141245 |[Macbook Pro Laptop]        |\n",
      "|141246 |[AAA Batteries (4-pack)]    |\n",
      "|141247 |[27in FHD Monitor]          |\n",
      "|141248 |[Flatscreen TV]             |\n",
      "|141249 |[27in FHD Monitor]          |\n",
      "|141250 |[Vareebadd Phone]           |\n",
      "|141251 |[Apple Airpods Headphones]  |\n",
      "|141252 |[USB-C Charging Cable]      |\n",
      "|141253 |[AA Batteries (4-pack)]     |\n",
      "+-------+----------------------------+\n",
      "only showing top 20 rows\n",
      "\n"
     ]
    }
   ],
   "source": [
    "product_q1_df_list.show(truncate=False)"
   ]
  },
  {
   "cell_type": "markdown",
   "id": "d61e6b09-9ff3-41e5-96c4-f42931ea44a1",
   "metadata": {},
   "source": [
    "aggregated product_id into list of product."
   ]
  },
  {
   "cell_type": "code",
   "execution_count": 197,
   "id": "5921766d-9259-49c4-aac9-55ec521b40f7",
   "metadata": {
    "tags": []
   },
   "outputs": [
    {
     "name": "stdout",
     "output_type": "stream",
     "text": [
      "+--------------------------------------------------------------------------------------------+----+\n",
      "|productList                                                                                 |size|\n",
      "+--------------------------------------------------------------------------------------------+----+\n",
      "|[iPhone, Lightning Charging Cable, Apple Airpods Headphones, Wired Headphones, Google Phone]|5   |\n",
      "|[iPhone, Lightning Charging Cable, Wired Headphones, AA Batteries (4-pack)]                 |4   |\n",
      "|[Vareebadd Phone, USB-C Charging Cable, Bose SoundSport Headphones, Wired Headphones]       |4   |\n",
      "|[Google Phone, USB-C Charging Cable, Bose SoundSport Headphones, Wired Headphones]          |4   |\n",
      "|[Google Phone, USB-C Charging Cable, Bose SoundSport Headphones, Wired Headphones]          |4   |\n",
      "|[Google Phone, USB-C Charging Cable, Wired Headphones, Wired Headphones]                    |4   |\n",
      "|[Google Phone, USB-C Charging Cable, Wired Headphones, Apple Airpods Headphones]            |4   |\n",
      "|[Google Phone, USB-C Charging Cable, Wired Headphones, iPhone]                              |4   |\n",
      "|[Vareebadd Phone, USB-C Charging Cable, Bose SoundSport Headphones, Wired Headphones]       |4   |\n",
      "|[iPhone, Lightning Charging Cable, Apple Airpods Headphones, Wired Headphones]              |4   |\n",
      "|[Google Phone, USB-C Charging Cable, Wired Headphones, 27in FHD Monitor]                    |4   |\n",
      "|[Google Phone, USB-C Charging Cable, Wired Headphones, USB-C Charging Cable]                |4   |\n",
      "|[iPhone, Lightning Charging Cable, Apple Airpods Headphones, Wired Headphones]              |4   |\n",
      "|[Google Phone, USB-C Charging Cable, Bose SoundSport Headphones, Wired Headphones]          |4   |\n",
      "|[Google Phone, USB-C Charging Cable, Bose SoundSport Headphones, 34in Ultrawide Monitor]    |4   |\n",
      "|[Google Phone, USB-C Charging Cable, Wired Headphones, AA Batteries (4-pack)]               |4   |\n",
      "|[iPhone, Lightning Charging Cable, Wired Headphones, USB-C Charging Cable]                  |4   |\n",
      "|[iPhone, Lightning Charging Cable, Apple Airpods Headphones, Wired Headphones]              |4   |\n",
      "|[iPhone, Lightning Charging Cable, AA Batteries (4-pack)]                                   |3   |\n",
      "|[iPhone, Lightning Charging Cable, Wired Headphones]                                        |3   |\n",
      "+--------------------------------------------------------------------------------------------+----+\n",
      "only showing top 20 rows\n",
      "\n"
     ]
    }
   ],
   "source": [
    "count_df = product_q1_df_list.select(\"productList\", size(\"productList\").alias(\"size\"))\n",
    "count_df = count_df.filter(col(\"size\") >= 2)\n",
    "count_df.orderBy(\"size\", ascending = False).show(truncate=False)"
   ]
  },
  {
   "cell_type": "markdown",
   "id": "1747c912-d0eb-4ce3-9458-9b57731f4cac",
   "metadata": {},
   "source": [
    "find occurence of product list."
   ]
  },
  {
   "cell_type": "code",
   "execution_count": 206,
   "id": "9b3b86e6-adbf-47e7-a0e4-caa3f96a7a09",
   "metadata": {
    "tags": []
   },
   "outputs": [],
   "source": [
    "bought_together_df = (count_df.groupBy(\"productList\").count().\n",
    "                     orderBy(\"count\"))"
   ]
  },
  {
   "cell_type": "code",
   "execution_count": 207,
   "id": "12913666-2295-4dad-aae9-a95fc5798129",
   "metadata": {
    "tags": []
   },
   "outputs": [
    {
     "name": "stdout",
     "output_type": "stream",
     "text": [
      "+---------------------------------------+-----+\n",
      "|productList                            |count|\n",
      "+---------------------------------------+-----+\n",
      "|[iPhone, Lightning Charging Cable]     |881  |\n",
      "|[Google Phone, USB-C Charging Cable]   |856  |\n",
      "|[iPhone, Wired Headphones]             |361  |\n",
      "|[Vareebadd Phone, USB-C Charging Cable]|312  |\n",
      "|[Google Phone, Wired Headphones]       |303  |\n",
      "+---------------------------------------+-----+\n",
      "only showing top 5 rows\n",
      "\n"
     ]
    }
   ],
   "source": [
    "bought_together_df.orderBy(\"count\",ascending=False).show(n=5,truncate=False)"
   ]
  },
  {
   "cell_type": "code",
   "execution_count": null,
   "id": "ab3beb7c-704b-4105-b113-c315a5e71adc",
   "metadata": {},
   "outputs": [],
   "source": []
  }
 ],
 "metadata": {
  "kernelspec": {
   "display_name": "Python 3 (ipykernel)",
   "language": "python",
   "name": "python3"
  },
  "language_info": {
   "codemirror_mode": {
    "name": "ipython",
    "version": 3
   },
   "file_extension": ".py",
   "mimetype": "text/x-python",
   "name": "python",
   "nbconvert_exporter": "python",
   "pygments_lexer": "ipython3",
   "version": "3.7.9"
  }
 },
 "nbformat": 4,
 "nbformat_minor": 5
}
